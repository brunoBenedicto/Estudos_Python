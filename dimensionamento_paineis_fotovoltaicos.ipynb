{
  "nbformat": 4,
  "nbformat_minor": 0,
  "metadata": {
    "colab": {
      "provenance": [],
      "toc_visible": true,
      "authorship_tag": "ABX9TyOyNBg3A2+iA378orE5sn+E",
      "include_colab_link": true
    },
    "kernelspec": {
      "name": "python3",
      "display_name": "Python 3"
    },
    "language_info": {
      "name": "python"
    }
  },
  "cells": [
    {
      "cell_type": "markdown",
      "metadata": {
        "id": "view-in-github",
        "colab_type": "text"
      },
      "source": [
        "<a href=\"https://colab.research.google.com/github/brunoBenedicto/Estudos_Python/blob/main/dimensionamento_paineis_fotovoltaicos.ipynb\" target=\"_parent\"><img src=\"https://colab.research.google.com/assets/colab-badge.svg\" alt=\"Open In Colab\"/></a>"
      ]
    },
    {
      "cell_type": "markdown",
      "source": [
        "#Dimensionamento de paineis fotovoltaicos"
      ],
      "metadata": {
        "id": "ZkT5zeqApXmh"
      }
    },
    {
      "cell_type": "markdown",
      "source": [
        "## Introdução"
      ],
      "metadata": {
        "id": "d44wPV4CWzx0"
      }
    },
    {
      "cell_type": "markdown",
      "source": [
        "\n",
        "### 1\n",
        "Referencia – LABREN/CCST/INPE <http://\n",
        "labren.ccst.inpe.br> em parceria com a UFSC (Martins et al.,\n",
        "2007) (Labren)"
      ],
      "metadata": {
        "id": "jfNDw-YrOR78"
      }
    },
    {
      "cell_type": "markdown",
      "source": [
        "\n",
        "### 2\n",
        "A irradiância solar (W/m2) que incide em uma superfície é\n",
        "composta por suas componentes direta e difusa. A irradiância\n",
        "solar direta apresenta direção de incidência na linha imaginária\n",
        "entre a superfície e o Sol e representa a parcela que não sofreu\n",
        "os processos radiativos de absorção e espalhamento que\n",
        "ocorrem na atmosfera. A componente difusa engloba a\n",
        "radiação proveniente de todas as demais direções que são\n",
        "decorrentes dos processos de espalhamento pelos gases e\n",
        "particulados presentes na atmosfera. A terminologia adotada\n",
        "por este Atlas é a seguinte:\n",
        "Irradiância extraterrestre (G0\n",
        "): é a taxa de energia\n",
        "incidente por unidade de área em um plano horizontal\n",
        "imaginário situado no topo da atmosfera. É também conhecido\n",
        "como irradiância no topo da atmosfera ou GTOA\n",
        ".\n",
        "Irradiância direta normal (Gn\n",
        "): também conhecida como\n",
        "DNI, é a taxa de energia por unidade de área proveniente\n",
        "diretamente do Sol que incide perpendicularmente à superfície.\n",
        "Irradiância difusa horizontal (Gdif\n",
        "): é a taxa de energia\n",
        "incidente sobre uma superfície horizontal por unidade de área,\n",
        "decorrente do espalhamento do feixe solar direto pelos\n",
        "constituintes atmosféricos (moléculas, material particulado,\n",
        "nuvens, etc.).\n",
        "Irradiância direta horizontal (Gdir\n",
        "): é a taxa de energia por\n",
        "unidade de área do feixe solar direto numa superfície\n",
        "horizontal. Pode ser determinada como o produto entre a\n",
        "irradiância direta normal (DNI) e o cosseno do ângulo zenital\n",
        "solar.\n",
        "Irradiância global horizontal (G): é a taxa de energia total\n",
        "por unidade de área incidente numa superfície horizontal. A\n",
        "irradiância global é dada pela soma G = Gdif + Gdir ou G = Gdif\n",
        "+ Gn\n",
        ".cos(θz) onde θz é o ângulo zenital.\n",
        "Irradiância no plano inclinado (Gi\n",
        "): é a taxa de energia\n",
        "total por unidade de área incidente sobre um plano inclinado na\n",
        "latitude do local em relação à superfície da Terra.\n",
        "A Figura 13 ilustra a irradiância assim que atinge a\n",
        "atmosfera e seu espalhamento.\n",
        "\n",
        "(Labren)"
      ],
      "metadata": {
        "id": "7S3NI_UgRHkD"
      }
    },
    {
      "cell_type": "markdown",
      "source": [
        "## Base de Dados"
      ],
      "metadata": {
        "id": "0m0axlTVXPYP"
      }
    },
    {
      "cell_type": "markdown",
      "source": [
        "### Características gerais"
      ],
      "metadata": {
        "id": "st384yYhgOKb"
      }
    },
    {
      "cell_type": "markdown",
      "source": [
        "A base de dados está disponível em diferentes abrangências: para TODO O BRASIL, para CADA ESTADO separadamente, para as SEDES DE MUNICÍPIOS e como CONSULTA A LOCAIS ESPECÍFICOS.\n",
        "A base é composta de 72272 registros contendo as médias anuais e mensais do total diário da irradiação Global Horizontal, Difusa, Direta Normal, no Plano Inclinado e PAR em Wh/m2.dia.\n",
        "Resolução espacial de 0,1° x 0,1° (aproximadamente 10 km x 10 km).\n",
        "Longitude e latitude definem o centroide das entidades, ou células, de 0,1° x 0,1°.\n",
        "Conjunto de caracteres Unicode UTF-8. (Labren)"
      ],
      "metadata": {
        "id": "d_UzgHZrwVUp"
      }
    },
    {
      "cell_type": "markdown",
      "source": [
        "### carregar dados no Google Colab"
      ],
      "metadata": {
        "id": "OmJI-_I7EBOg"
      }
    },
    {
      "cell_type": "markdown",
      "source": [
        "**1** Baixar o arquivo plano inclinado do labren no seu dispositivo. segue o link: http://labren.ccst.inpe.br/atlas_2017.html#mod\n",
        "baixar arquivos formato completo CSV da sessao\n",
        "**Download da base de dados - BRASIL COMPLETO ou todas as SEDES DE MUNICÍPIOS**\n",
        "\n",
        "**2** No google colab\n",
        "Nos icones do canto esquerdo, clicar no icone de uma pasta **(arquivos)**,depois no icone **Upload** e selecionar o arquivo do seu dispositivo, o arquivo com **os dados ficará abaixo da pasta sample_data**. com o botao direito selecionar copiar caminho e depois colar no codigo onde tem a atribuicao da variavel \"caminho_do_arquivo\" na sessao **Tratamento de dados**.\n",
        "\n",
        "![Sem título.png](data:image/png;base64,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)\n",
        "\n",
        "\n"
      ],
      "metadata": {
        "id": "YrToGMHgRb5c"
      }
    },
    {
      "cell_type": "markdown",
      "source": [
        "### Tratamento de dados"
      ],
      "metadata": {
        "id": "u2fFjm4FuWPs"
      }
    },
    {
      "cell_type": "markdown",
      "source": [
        "\n",
        "Sendo o intervalo das coordenadoras de 0.1°, trunca-se os valores das coordenadoras para o formato x.x°. com isso ao consultar qualquer coordenada, basta arredonda-la até a primeira casa decimal para encontrar a coordenada mais próxima na base de dados"
      ],
      "metadata": {
        "id": "Rss9Ea4HwenV"
      }
    },
    {
      "cell_type": "code",
      "source": [
        "import pandas as pd # biblioteca para acessar arquivos tabulares(no caso, CSV), o pd serve como apelido do pandas\n",
        "\n",
        "caminho_do_arquivo = '/content/tilted_latitude_means.csv'\n",
        "plano_inclinado = pd.read_csv(caminho_do_arquivo, sep=';') # armazena os dados do arquivo que estão separados por ponto e virgula\n",
        "\n",
        "# Truncar os valores das colunas LAT e LONpara 1 dígito após a casa decimal\n",
        "plano_inclinado['LAT'] = plano_inclinado['LAT'].apply(lambda x: format(x, '.2f')).astype(float)\n",
        "plano_inclinado['LON'] = plano_inclinado['LON'].apply(lambda x: format(x, '.1f')).astype(float)"
      ],
      "metadata": {
        "id": "uAKqS_2LPaVS"
      },
      "execution_count": null,
      "outputs": []
    },
    {
      "cell_type": "markdown",
      "source": [
        "## Obtenção das Coordenadas"
      ],
      "metadata": {
        "id": "4zVZxaM4vqUP"
      }
    },
    {
      "cell_type": "markdown",
      "source": [
        "### API OpenStreetMap"
      ],
      "metadata": {
        "id": "3w43zbPzv9OY"
      }
    },
    {
      "cell_type": "markdown",
      "source": [
        "A API OpenStreetMap também permite a obtenção de informações geográficas específicas por meio do uso de coordenadas. Os desenvolvedores podem realizar consultas para obter dados detalhados sobre elementos do mapa com base em suas coordenadas geográficas, como latitude e longitude. Isso possibilita a criação de funcionalidades como geocodificação reversa, onde é possível obter informações sobre um local com base em suas coordenadas. As coordenadas são uma parte essencial da API OpenStreetMap, pois permitem uma precisão e especificidade no acesso aos dados geográficos."
      ],
      "metadata": {
        "id": "YJz6q0tRwvU0"
      }
    },
    {
      "cell_type": "markdown",
      "source": [
        "### Consultar coordenadas pelo endereço"
      ],
      "metadata": {
        "id": "8IBV9o2xy4SX"
      }
    },
    {
      "cell_type": "markdown",
      "source": [
        "A função abaixo recebe uma seringa contendo o endereço, e faz uma requisição a API que retorna as informações sobre o endereço, incluindo as coordenadas. A função devolve a latitude e longitude."
      ],
      "metadata": {
        "id": "n0CNjy3My9nV"
      }
    },
    {
      "cell_type": "code",
      "source": [
        "import requests # biblioteca para consultar APIs\n",
        "\n",
        "# esta funçao usa o endereco fornecido para para obter as coordenadas atraves da API OpenStreetMap\n",
        "def obter_coordenadas(endereco):\n",
        "    url = \"https://nominatim.openstreetmap.org/search?q={}&format=json\".format(endereco)\n",
        "    response = requests.get(url)\n",
        "\n",
        "    if response.status_code == 200:\n",
        "        data = response.json()\n",
        "        if data:\n",
        "            latitude = float(data[0]['lat'])\n",
        "            longitude = float(data[0]['lon'])\n",
        "            return latitude, longitude\n",
        "        else:\n",
        "            print('Nenhum resultado encontrado para o endereço fornecido.')\n",
        "    else:\n",
        "        print('Erro ao fazer a solicitação à API:', response.status_code)\n"
      ],
      "metadata": {
        "id": "J8s18Z-ypul5"
      },
      "execution_count": null,
      "outputs": []
    },
    {
      "cell_type": "markdown",
      "source": [
        "## Calcular Painéis"
      ],
      "metadata": {
        "id": "eU8i1pVd5Uci"
      }
    },
    {
      "cell_type": "markdown",
      "source": [
        "Para determinar a quantidade de painéis é necessário saber a Irradiação média diária do local a ser instalado os painéis fotovoltaicos, o Consumo médio diário em watts, o tipo de fornecimento de energia elétrica e a potência dos painéis."
      ],
      "metadata": {
        "id": "TK2-mMuw5fKW"
      }
    },
    {
      "cell_type": "markdown",
      "source": [
        "### Consultar Irradiação"
      ],
      "metadata": {
        "id": "p96qFp5P6ZFp"
      }
    },
    {
      "cell_type": "markdown",
      "source": [
        "A função recebe dois parâmetros (latitude e longitude), faz a consulta no arquivo \"plano inclinado\" e devolve uma linha com as informações de média diária de cada mês do ano."
      ],
      "metadata": {
        "id": "u7hC2gzl6hpQ"
      }
    },
    {
      "cell_type": "code",
      "source": [
        "def consultar_irradiacao(latitude, longitude):\n",
        "  linha = plano_inclinado[(plano_inclinado['LAT'] == round(float(latitude), 1)) & (plano_inclinado['LON'] == round(float(longitude), 1))]\n",
        "  return linha"
      ],
      "metadata": {
        "id": "b_-VKdS_jOe4"
      },
      "execution_count": null,
      "outputs": []
    },
    {
      "cell_type": "markdown",
      "source": [
        "Para evitar que os painéis fiquem ociosos em determinadas épocas do ano, usa-se o valor da menor média diária.\n",
        "\n",
        "A função abaixo recebe uma linha com os meses e suas médias diárias de irradiação, e devolve o mês com menor valor e a irradiação correspondente."
      ],
      "metadata": {
        "id": "z8qIEr258zQu"
      }
    },
    {
      "cell_type": "code",
      "source": [
        "def obter_mes_menor_irradiacao(linha):\n",
        "    meses = ['JAN', 'FEB', 'MAR', 'APR', 'MAY', 'JUN', 'JUL', 'AUG', 'SEP', 'OCT', 'NOV', 'DEC']\n",
        "    irradiacoes = [linha[mes].values[0] for mes in meses]\n",
        "    menor_irradiacao = min(irradiacoes)\n",
        "    indice_menor_irradiacao = irradiacoes.index(menor_irradiacao)\n",
        "    mes_menor_irradiacao = meses[indice_menor_irradiacao]\n",
        "    return mes_menor_irradiacao, menor_irradiacao"
      ],
      "metadata": {
        "id": "jqH0sEaNKd2p"
      },
      "execution_count": null,
      "outputs": []
    },
    {
      "cell_type": "markdown",
      "source": [
        "### Definir quantidade de painéis"
      ],
      "metadata": {
        "id": "O1H9jL1--UEf"
      }
    },
    {
      "cell_type": "markdown",
      "source": [
        "A função calcular_paineis recebe como parâmetro o consumo medio mensal(kw/h), o tipo de fornecimento(monofásico, bifásico ou trifásico), a potência do painel (watts) e a irradiação média diária (watts)"
      ],
      "metadata": {
        "id": "cXVBmm6P-3bf"
      }
    },
    {
      "cell_type": "code",
      "source": [
        "\n",
        "import math\n",
        "#calcular a quantidade de paineis\n",
        "\n",
        "\n",
        "def calcular_paineis(cosumo_medio, tipo_de_fornecimento, potencia_do_painel, menor_irradicao):\n",
        "    _desconto = calcularDesconto(tipo_de_fornecimento)\n",
        "    consumo_medio_mensal = cosumo_medio - _desconto\n",
        "    consumo_medio_diario = consumo_medio_mensal / 30\n",
        "    quantidade_de_paineis = math.ceil((((consumo_medio_diario) / (menor_irradicao / 1000)) * 1000) / potencia_do_painel)\n",
        "    return quantidade_de_paineis"
      ],
      "metadata": {
        "id": "yXwHySBS-siI"
      },
      "execution_count": null,
      "outputs": []
    },
    {
      "cell_type": "markdown",
      "source": [
        "A função auxiliar calcularDeconto recebe o tipo de fornecimento e devolve o desconto referente em watts"
      ],
      "metadata": {
        "id": "uAYigoW_A8lF"
      }
    },
    {
      "cell_type": "code",
      "source": [
        "def calcularDesconto(tipo_de_fornecimento):\n",
        "    if tipo_de_fornecimento == 'monofasico':\n",
        "        desconto = 30\n",
        "    elif tipo_de_fornecimento == 'bifasico':\n",
        "        desconto = 50\n",
        "    elif tipo_de_fornecimento == 'trifasico':\n",
        "        desconto = 100\n",
        "    else:\n",
        "        desconto = 0  # Valor padrão caso o tipo de fornecimento não seja reconhecido\n",
        "\n",
        "    return desconto"
      ],
      "metadata": {
        "id": "cqTQ5R6_DjuY"
      },
      "execution_count": null,
      "outputs": []
    },
    {
      "cell_type": "markdown",
      "source": [
        "# Exemplo de uso"
      ],
      "metadata": {
        "id": "VSm9IUFVXF-v"
      }
    },
    {
      "cell_type": "code",
      "source": [
        "\n",
        "endereco = \"parnamirim, rio grande do norte , brasil\" # preencher endereço entre as aspas\n",
        "consumoMedioMensal = 500 #inserir consumo medio em kw/h\n",
        "potencia = 280  # inserir potência do painel em watts\n",
        "\n",
        "#chamada das funções e atribuicao dos retornos às variaveis\n",
        "coordenadas = obter_coordenadas(endereco)\n",
        "latitude, longitude = coordenadas\n",
        "print(coordenadas)\n",
        "irradiacao = consultar_irradiacao(latitude, longitude)\n",
        "mes, minimo = obter_mes_menor_irradiacao(irradiacao)\n",
        "qtd_paineis = calcular_paineis(consumoMedioMensal, 'monofasico', potencia, minimo)\n",
        "\n",
        "#Resultado\n",
        "\n",
        "print(\"Coordenadas de\", endereco)\n",
        "print(coordenadas)\n",
        "print(\"o mes com menor irradiacao é\", mes)\n",
        "print(\" com irradiacao media diaria de \",  minimo, \"kw/h por m²\")\n",
        "print(\"para um consumo mensal de \",consumoMedioMensal,\"kw/h, é preciso de \", qtd_paineis, \"paineis de \",potencia,\"w\")"
      ],
      "metadata": {
        "colab": {
          "base_uri": "https://localhost:8080/"
        },
        "id": "7KQt6ogIhNRe",
        "outputId": "fe295f50-cc51-468e-f5c8-6bfa032a235b"
      },
      "execution_count": null,
      "outputs": [
        {
          "output_type": "stream",
          "name": "stdout",
          "text": [
            "(-5.9153334, -35.2679913)\n",
            "Coordenadas de parnamirim, rio grande do norte , brasil\n",
            "(-5.9153334, -35.2679913)\n",
            "o mes com menor irradiacao é JUN\n",
            " com irradiacao media diaria de  4834 kw/h por m²\n",
            "para um consumo mensal de  500 kw/h, é preciso de  12 paineis de  280 w\n"
          ]
        }
      ]
    }
  ]
}